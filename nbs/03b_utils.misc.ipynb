{
 "cells": [
  {
   "attachments": {},
   "cell_type": "markdown",
   "metadata": {},
   "source": [
    "## 🧂 Misc utils"
   ]
  },
  {
   "cell_type": "code",
   "execution_count": null,
   "metadata": {},
   "outputs": [],
   "source": [
    "#| default_exp utils.misc"
   ]
  },
  {
   "cell_type": "code",
   "execution_count": null,
   "metadata": {},
   "outputs": [],
   "source": [
    "# |hide\n",
    "import nbdev; nbdev.nbdev_export()\n",
    "from dotenv import load_dotenv; load_dotenv();"
   ]
  },
  {
   "cell_type": "code",
   "execution_count": null,
   "metadata": {},
   "outputs": [],
   "source": [
    "# |hide\n",
    "from nbdev.showdoc import *\n",
    "# from lovely_jax import monkey_patch"
   ]
  },
  {
   "cell_type": "code",
   "execution_count": null,
   "metadata": {},
   "outputs": [],
   "source": [
    "# |export\n",
    "\n",
    "import re\n",
    "import codecs\n",
    "import numpy as np\n",
    "\n",
    "from tinygrad.tensor import Tensor\n",
    "\n",
    "from fastcore.test import test_eq"
   ]
  },
  {
   "cell_type": "code",
   "execution_count": null,
   "metadata": {},
   "outputs": [],
   "source": [
    "# |hide\n",
    "# jax.config.update('jax_platform_name', 'cpu')\n",
    "# monkey_patch()"
   ]
  },
  {
   "cell_type": "code",
   "execution_count": null,
   "metadata": {},
   "outputs": [],
   "source": [
    "# |exporti\n",
    "def is_cpu(x: Tensor) -> bool:\n",
    "    x.device.lower() == \"cpu\"\n",
    "    # assert 1, \"Not implemented\"\n",
    "\n",
    "    # if hasattr(x, \"devices\"): # Unified Array (jax >= 0.4)\n",
    "    #     return list(x.devices())[0] == jax.devices(\"cpu\")[0]\n",
    "    # if hasattr(x, \"device\"): # Old-style DeviceArray\n",
    "    #     return x.device() == jax.devices(\"cpu\")[0]\n",
    "\n",
    "    # assert hasattr(x, \"sharding\"), f\"Weird input type={type(input)}, expecrted Array, DeviceArray, or ShardedDeviceArray\"\n",
    "    # return False"
   ]
  }
 ],
 "metadata": {
  "kernelspec": {
   "display_name": "python3",
   "language": "python",
   "name": "python3"
  }
 },
 "nbformat": 4,
 "nbformat_minor": 2
}
