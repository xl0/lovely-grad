{
 "cells": [
  {
   "cell_type": "markdown",
   "metadata": {},
   "source": [
    "# 🧾 View as a summary"
   ]
  },
  {
   "cell_type": "code",
   "execution_count": null,
   "metadata": {},
   "outputs": [],
   "source": [
    "#| default_exp repr_str"
   ]
  },
  {
   "cell_type": "code",
   "execution_count": null,
   "metadata": {},
   "outputs": [],
   "source": [
    "#| hide\n",
    "import nbdev; nbdev.nbdev_export()\n",
    "from dotenv import load_dotenv; load_dotenv();"
   ]
  },
  {
   "cell_type": "code",
   "execution_count": null,
   "metadata": {},
   "outputs": [],
   "source": [
    "# |hiderepr_str\n",
    "from nbdev.showdoc import *\n",
    "from fastcore.test import test_eq, test"
   ]
  },
  {
   "cell_type": "code",
   "execution_count": null,
   "metadata": {},
   "outputs": [],
   "source": [
    "#| hide\n",
    "#| export\n",
    "\n",
    "import warnings\n",
    "from typing import Union, Optional as O\n",
    "\n",
    "import numpy as np\n",
    "\n",
    "from lovely_numpy import np_to_str_common, pretty_str, sparse_join, ansi_color, in_debugger, bytes_to_human\n",
    "from lovely_numpy import config as lnp_config\n",
    "\n",
    "from lovely_grad.utils.config import get_config, config, set_config\n",
    "from lovely_grad.utils.misc import is_cpu\n",
    "\n",
    "from tinygrad import Tensor\n",
    "from tinygrad.dtype import dtypes, DType"
   ]
  },
  {
   "cell_type": "code",
   "execution_count": null,
   "metadata": {},
   "outputs": [],
   "source": [
    "# |hide\n",
    "np.random.seed(1337)\n",
    "\n",
    "randoms = np.random.randn(100,).astype(np.float32)\n",
    "\n",
    "spicy = randoms[:12].copy()\n",
    "spicy[0] *= 10000.0\n",
    "spicy[1] /= 10000.0\n",
    "spicy[3] = np.inf\n",
    "spicy[4] = -np.inf\n",
    "spicy[5] = np.nan\n",
    "spicy = spicy.reshape((2,6))\n",
    "\n",
    "\n",
    "# Works with gpu too, but I keep cpu for CI testing to match the outputs.\n",
    "randoms = Tensor(randoms, device=\"cpu\")\n",
    "spicy = Tensor(spicy, device=\"cpu\")"
   ]
  },
  {
   "cell_type": "code",
   "execution_count": null,
   "metadata": {},
   "outputs": [],
   "source": [
    "# |exporti\n",
    "dtnames =   {   \"half\": \"f16\",\n",
    "                \"float\": \"f32\",\n",
    "                \"char\": \"i8\",\n",
    "                \"uchar\": \"u8\",\n",
    "                \"int\":   \"i32\",\n",
    "                \"int64\": \"i64\",\n",
    "            }\n",
    "\n",
    "\n",
    "def short_dtype(x: DType) -> str:\n",
    "    return dtnames.get(x.dtype.name, str(x.dtype)) if x.dtype != dtypes.default_float else \"\""
   ]
  },
  {
   "cell_type": "code",
   "execution_count": null,
   "metadata": {},
   "outputs": [],
   "source": [
    "# |hide\n",
    "# test_eq(short_dtype(jnp.array(1., dtype=jnp.bfloat16)), \"bf16\")"
   ]
  },
  {
   "cell_type": "code",
   "execution_count": null,
   "metadata": {},
   "outputs": [],
   "source": [
    "# | exporti\n",
    "def plain_repr(x: Tensor):\n",
    "    \"Pick the right function to get a plain repr\"\n",
    "    # assert isinstance(x, np.ndarray), f\"expected np.ndarray but got {type(x)}\" # Could be a sub-class.\n",
    "    return x._plain_repr() if hasattr(x, \"_plain_repr\") else repr(x)\n"
   ]
  },
  {
   "cell_type": "code",
   "execution_count": null,
   "metadata": {},
   "outputs": [],
   "source": [
    "# | exporti\n",
    "def is_nasty(x: Tensor):\n",
    "    \"\"\"Return true of any `x` values are inf or nan\"\"\"\n",
    "    if x.shape == (): return False # min/max don't like zero-lenght arrays\n",
    "\n",
    "    x_min = x.min().numpy().squeeze()\n",
    "    x_max = x.max().numpy().squeeze()\n",
    "\n",
    "    return np.isnan(x_min) or np.isinf(x_min) or np.isinf(x_max)"
   ]
  },
  {
   "cell_type": "code",
   "execution_count": null,
   "metadata": {},
   "outputs": [],
   "source": [
    "#| hide\n",
    "# test_eq(is_nasty(Tensor([1, 2, float(\"nan\")])), True) ### Fix tinygrad/#862 first\n",
    "test_eq(is_nasty(Tensor([1, 2, float(\"inf\")])), True)\n",
    "test_eq(is_nasty(Tensor([1, 2, 3])), False)\n",
    "# test_eq(is_nasty(Tensor([])), False)"
   ]
  },
  {
   "cell_type": "code",
   "execution_count": null,
   "metadata": {},
   "outputs": [
    {
     "data": {
      "text/plain": [
       "array(False)"
      ]
     },
     "execution_count": null,
     "metadata": {},
     "output_type": "execute_result"
    }
   ],
   "source": [
    "x = Tensor([0, 0, 1])\n",
    "((x == 0).min() == 1).realize().numpy()"
   ]
  },
  {
   "cell_type": "code",
   "execution_count": null,
   "metadata": {},
   "outputs": [],
   "source": [
    "# |exporti\n",
    "def tensor_to_str_common(x: Tensor,  # Input\n",
    "                        color=True,  # ANSI color highlighting\n",
    "                        ddof=0):     # For \"std\" unbiasing\n",
    "\n",
    "    if x.numel() == 0: return ansi_color(\"empty\", \"grey\", color)\n",
    "    if ((x == 0).min() == 1).numpy(): return ansi_color(\"all_zeros\", \"grey\", color)\n",
    "\n",
    "    if x.ndim > 0:\n",
    "        x_min = x.min().numpy().squeeze()\n",
    "        x_max = x.max().numpy().squeeze()\n",
    "        minmax = f\"x∈[{pretty_str(x_min)}, {pretty_str(x_max)}]\" if x.numel() > 2 else None\n",
    "\n",
    "        # XXX Add bias correction?\n",
    "        x_mean = x.mean().numpy().squeeze()\n",
    "        x_std = x.std().numpy().squeeze()\n",
    "        meanstd = f\"μ={pretty_str(x_mean)} σ={pretty_str(x_std)}\" if x.numel() >= 2 else None\n",
    "\n",
    "        return sparse_join([minmax, meanstd])"
   ]
  },
  {
   "cell_type": "code",
   "execution_count": null,
   "metadata": {},
   "outputs": [],
   "source": [
    "# |exporti\n",
    "\n",
    "def to_str(x: Tensor,  # Input\n",
    "            verbose:        bool    =False,\n",
    "            auto_realize:   O[bool] =None,\n",
    "            depth:          int     =0,\n",
    "            lvl:            int     =0,\n",
    "            color:          O[bool] =None\n",
    "        ) -> str:\n",
    "\n",
    "    # if plain:\n",
    "    #     return plain_repr(x)\n",
    "\n",
    "    conf = get_config()\n",
    "    if color is None: color=conf.color\n",
    "    if auto_realize is None: auto_realize=conf.auto_realize\n",
    "\n",
    "    if in_debugger(): color = False\n",
    "\n",
    "\n",
    "    tname = type(x).__name__.split(\".\")[-1]             # Tensor\n",
    "    shape = str(list(x.shape)) if (x.ndim) else None   # [1,2,3]\n",
    "    type_str = sparse_join([tname, shape], sep=\"\")      # Tensor[1,2,3]\n",
    "\n",
    "    dtype = short_dtype(x)                              # f16\n",
    "    dev = x.device                                      # CPU\n",
    "\n",
    "    grad = \"grad\" if x.requires_grad else None          # grad\n",
    "    if x.grad is not None: grad = grad + ansi_color(\"+\", \"green\", color)\n",
    "\n",
    "\n",
    "    numel = None\n",
    "    if x.shape and max(x.shape) != x.numel():\n",
    "        numel = f\"n={x.numel()}\"\n",
    "        # if get_config().show_mem_above <= x.nbytes:\n",
    "        #     numel = sparse_join([numel, f\"({bytes_to_human(x.nbytes)})\"])\n",
    "    # elif get_config().show_mem_above <= x.nbytes:\n",
    "        # numel = bytes_to_human(x.nbytes)\n",
    "\n",
    "    res  = \"\"\n",
    "    if verbose: # Put this on top before the tensor is possibly realized.\n",
    "        res += plain_repr(x) + \"\\n\"\n",
    "\n",
    "    just_realized = None\n",
    "    if auto_realize and not x.uop.base.realized:\n",
    "        just_realized = ansi_color(\"Realized \"+ str(x.uop.op).split(\".\")[-1], \"grey\", color)\n",
    "        x.realize()\n",
    "\n",
    "    if x.uop.base.realized:\n",
    "        # `lovely-numpy` is used to calculate stats when doing so on GPU would require\n",
    "        # memory allocation (no-float tensors, tensors with bad numbers),\n",
    "        #\n",
    "        # Temporarily set the numpy config to match our config for consistency.\n",
    "        with lnp_config(precision=conf.precision,\n",
    "                        threshold_min=conf.threshold_min,\n",
    "                        threshold_max=conf.threshold_max,\n",
    "                        sci_mode=conf.sci_mode):\n",
    "\n",
    "            if is_nasty(x) or not x.is_floating_point():\n",
    "                common = np_to_str_common(x.numpy(), color=color)\n",
    "            else:\n",
    "                common = tensor_to_str_common(x, color=color)\n",
    "\n",
    "            vals = pretty_str(x.numpy()) if 0 < x.numel() <= 10 else None\n",
    "            res += sparse_join([type_str, dtype, numel, common, grad, dev, just_realized, vals])\n",
    "    else:\n",
    "        op = \"Lazy \" + str(x.uop.op).split(\".\")[-1]\n",
    "        res += sparse_join([type_str, dtype, numel, grad, dev, op])\n",
    "    # else:\n",
    "    #     res = plain_repr(x)\n",
    "\n",
    "\n",
    "    if depth and x.ndim > 1:\n",
    "        with config(show_mem_above=np.inf):\n",
    "            deep_width = min((x.shape[0]), conf.deeper_width) # Print at most this many lines\n",
    "            deep_lines = [ \" \"*conf.indent*(lvl+1) + to_str(x[i,:].realize(), depth=depth-1, lvl=lvl+1, color=color)\n",
    "                                for i in range(deep_width)]\n",
    "\n",
    "            # If we were limited by width, print ...\n",
    "            if deep_width < x.shape[0]: deep_lines.append(\" \"*conf.indent*(lvl+1) + \"...\")\n",
    "\n",
    "            res += \"\\n\" + \"\\n\".join(deep_lines)\n",
    "\n",
    "    return res"
   ]
  },
  {
   "cell_type": "code",
   "execution_count": null,
   "metadata": {},
   "outputs": [],
   "source": [
    "# |exporti\n",
    "def history_warning():\n",
    "    \"Issue a warning (once) ifw e are running in IPYthon with output cache enabled\"\n",
    "\n",
    "    if \"get_ipython\" in globals() and get_ipython().cache_size > 0:\n",
    "        warnings.warn(\"IPYthon has its output cache enabled. See https://xl0.github.io/lovely-tensors/history.html\")"
   ]
  },
  {
   "cell_type": "code",
   "execution_count": null,
   "metadata": {},
   "outputs": [
    {
     "name": "stderr",
     "output_type": "stream",
     "text": [
      "/tmp/ipykernel_176914/3648473780.py:6: UserWarning: IPYthon has its output cache enabled. See https://xl0.github.io/lovely-tensors/history.html\n",
      "  warnings.warn(\"IPYthon has its output cache enabled. See https://xl0.github.io/lovely-tensors/history.html\")\n"
     ]
    }
   ],
   "source": [
    "# |hide\n",
    "get_ipython().cache_size=1000\n",
    "history_warning()"
   ]
  },
  {
   "cell_type": "code",
   "execution_count": null,
   "metadata": {},
   "outputs": [],
   "source": [
    "# |hide\n",
    "get_ipython().cache_size=0"
   ]
  },
  {
   "cell_type": "code",
   "execution_count": null,
   "metadata": {},
   "outputs": [],
   "source": [
    "#| exporti\n",
    "\n",
    "class StrProxy():\n",
    "    def __init__(self, x: Tensor, plain=False, verbose=False, depth=0, lvl=0, color=None):\n",
    "        self.x = x\n",
    "        self.plain = plain\n",
    "        self.verbose = verbose\n",
    "        self.depth=depth\n",
    "        self.lvl=lvl\n",
    "        self.color=color\n",
    "        history_warning()\n",
    "\n",
    "    def __repr__(self):\n",
    "        if self.plain: return plain_repr(self.x)\n",
    "        return to_str(self.x, verbose=self.verbose,\n",
    "                      depth=self.depth, lvl=self.lvl, color=self.color)\n",
    "\n",
    "    # This is used for .deeper attribute and .deeper(depth=...).\n",
    "    # The second onthe results in a __call__.\n",
    "    def __call__(self, depth=1):\n",
    "        return StrProxy(self.x, depth=depth)"
   ]
  },
  {
   "cell_type": "code",
   "execution_count": null,
   "metadata": {},
   "outputs": [],
   "source": [
    "# |export\n",
    "def lovely(x: Tensor, # Tensor of interest\n",
    "            verbose=False,  # Whether to show the full tensor\n",
    "            depth=0,        # Show stats in depth\n",
    "            color=None):    # Force color (True/False) or auto.\n",
    "    return StrProxy(x, verbose=verbose, depth=depth, color=color)"
   ]
  },
  {
   "cell_type": "markdown",
   "metadata": {},
   "source": [
    "### Examples"
   ]
  },
  {
   "attachments": {},
   "cell_type": "markdown",
   "metadata": {},
   "source": [
    "##### Control laziness of repr"
   ]
  },
  {
   "cell_type": "code",
   "execution_count": null,
   "metadata": {},
   "outputs": [
    {
     "data": {
      "text/plain": [
       "Tensor[2, 6] n=12 CPU Lazy COPY"
      ]
     },
     "execution_count": null,
     "metadata": {},
     "output_type": "execute_result"
    }
   ],
   "source": [
    "set_config(auto_realize=False)\n",
    "lovely(spicy)"
   ]
  },
  {
   "cell_type": "code",
   "execution_count": null,
   "metadata": {},
   "outputs": [
    {
     "data": {
      "text/plain": [
       "Tensor[2, 6] n=12 CPU Lazy COPY"
      ]
     },
     "execution_count": null,
     "metadata": {},
     "output_type": "execute_result"
    }
   ],
   "source": [
    "lovely(spicy)"
   ]
  },
  {
   "cell_type": "code",
   "execution_count": null,
   "metadata": {},
   "outputs": [
    {
     "data": {
      "text/plain": [
       "Tensor[2, 6] n=12 x∈[-7.032e+03, 1.549] μ=-781.232 σ=2.210e+03 \u001b[31m+Inf!\u001b[0m \u001b[31m-Inf!\u001b[0m \u001b[31mNaN!\u001b[0m CPU \u001b[38;2;127;127;127mRealized COPY\u001b[0m"
      ]
     },
     "execution_count": null,
     "metadata": {},
     "output_type": "execute_result"
    }
   ],
   "source": [
    "set_config(auto_realize=True)\n",
    "lovely(spicy)"
   ]
  },
  {
   "cell_type": "code",
   "execution_count": null,
   "metadata": {},
   "outputs": [
    {
     "data": {
      "text/plain": [
       "Tensor[2, 6] n=12 x∈[-7.032e+03, 1.549] μ=-781.232 σ=2.210e+03 \u001b[31m+Inf!\u001b[0m \u001b[31m-Inf!\u001b[0m \u001b[31mNaN!\u001b[0m CPU"
      ]
     },
     "execution_count": null,
     "metadata": {},
     "output_type": "execute_result"
    }
   ],
   "source": [
    "lovely(spicy)"
   ]
  },
  {
   "attachments": {},
   "cell_type": "markdown",
   "metadata": {},
   "source": [
    "##### Show the stats and values"
   ]
  },
  {
   "cell_type": "code",
   "execution_count": null,
   "metadata": {},
   "outputs": [
    {
     "data": {
      "text/plain": [
       "Tensor CPU \u001b[38;2;127;127;127mRealized RESHAPE\u001b[0m -0.703"
      ]
     },
     "execution_count": null,
     "metadata": {},
     "output_type": "execute_result"
    }
   ],
   "source": [
    "lovely(randoms[0])"
   ]
  },
  {
   "cell_type": "code",
   "execution_count": null,
   "metadata": {},
   "outputs": [
    {
     "data": {
      "text/plain": [
       "Tensor[2] μ=-0.597 σ=0.151 CPU [-0.703, -0.490]"
      ]
     },
     "execution_count": null,
     "metadata": {},
     "output_type": "execute_result"
    }
   ],
   "source": [
    "lovely(randoms[:2])"
   ]
  },
  {
   "cell_type": "code",
   "execution_count": null,
   "metadata": {},
   "outputs": [
    {
     "data": {
      "text/plain": [
       "Tensor[2, 3] n=6 x∈[-2.011, 0.207] μ=-0.846 σ=0.862 CPU [[-0.703, -0.490, -0.322], [-1.755, 0.207, -2.011]]"
      ]
     },
     "execution_count": null,
     "metadata": {},
     "output_type": "execute_result"
    }
   ],
   "source": [
    "\n",
    "lovely(randoms[:6].reshape((2, 3))) # More than 2 elements -> show statistics"
   ]
  },
  {
   "cell_type": "code",
   "execution_count": null,
   "metadata": {},
   "outputs": [
    {
     "data": {
      "text/plain": [
       "Tensor[11] x∈[-2.011, 1.549] μ=-0.336 σ=1.162 CPU"
      ]
     },
     "execution_count": null,
     "metadata": {},
     "output_type": "execute_result"
    }
   ],
   "source": [
    "lovely(randoms[:11])                # More than 10 -> suppress data output"
   ]
  },
  {
   "cell_type": "code",
   "execution_count": null,
   "metadata": {},
   "outputs": [],
   "source": [
    "# |hide\n",
    "# test_eq(str(lovely(randoms[0])),                'Tensor[1] CPU \\x1b[38;2;127;127;127mRealized SHRINK\\x1b[0m [-0.703]')\n",
    "# test_eq(str(lovely(randoms[:2])),               'Tensor[2] μ=-0.597 σ=0.106 CPU \\x1b[38;2;127;127;127mRealized SHRINK\\x1b[0m [-0.703, -0.490]')\n",
    "# test_eq(str(lovely(randoms[:6].reshape(2, 3))), 'Tensor[2, 3] n=2 x∈[-2.011, 0.207] μ=-0.846 σ=0.787 CPU \\x1b[38;2;127;127;127mRealized RESHAPE\\x1b[0m [[-0.703, -0.490, -0.322], [-1.755, 0.207, -2.011]]')\n",
    "# test_eq(str(lovely(randoms[:11])),              'Tensor[11] x∈[-2.011, 1.549] μ=-0.336 σ=1.108 CPU')"
   ]
  },
  {
   "attachments": {},
   "cell_type": "markdown",
   "metadata": {},
   "source": [
    "##### Gradient"
   ]
  },
  {
   "cell_type": "code",
   "execution_count": null,
   "metadata": {},
   "outputs": [
    {
     "data": {
      "text/plain": [
       "Tensor[3] x∈[1.000, 3.000] μ=2.000 σ=1.000 grad CPU \u001b[38;2;127;127;127mRealized COPY\u001b[0m [1.000, 2.000, 3.000]"
      ]
     },
     "execution_count": null,
     "metadata": {},
     "output_type": "execute_result"
    }
   ],
   "source": [
    "g=Tensor([1.,2,3], requires_grad=True)\n",
    "lovely(g)"
   ]
  },
  {
   "cell_type": "code",
   "execution_count": null,
   "metadata": {},
   "outputs": [
    {
     "data": {
      "text/plain": [
       "Tensor[3] x∈[1.000, 3.000] μ=2.000 σ=1.000 grad\u001b[32m+\u001b[0m CPU [1.000, 2.000, 3.000]"
      ]
     },
     "execution_count": null,
     "metadata": {},
     "output_type": "execute_result"
    }
   ],
   "source": [
    "(g*g).sum().backward()\n",
    "lovely(g)"
   ]
  },
  {
   "attachments": {},
   "cell_type": "markdown",
   "metadata": {},
   "source": [
    "::: {.callout-note}\n",
    "\n",
    "Note the green '<span style=\"color: green;\">+</span>'  when the gradient is available.\n",
    "\n",
    ":::"
   ]
  },
  {
   "cell_type": "code",
   "execution_count": null,
   "metadata": {},
   "outputs": [
    {
     "data": {
      "text/plain": [
       "Tensor[3] x∈[2.000, 6.000] μ=4.000 σ=2.000 CPU \u001b[38;2;127;127;127mRealized ADD\u001b[0m [2.000, 4.000, 6.000]"
      ]
     },
     "execution_count": null,
     "metadata": {},
     "output_type": "execute_result"
    }
   ],
   "source": [
    "lovely(g.grad)"
   ]
  },
  {
   "attachments": {},
   "cell_type": "markdown",
   "metadata": {},
   "source": [
    "##### Do we have __any__ floating point nasties?"
   ]
  },
  {
   "cell_type": "code",
   "execution_count": null,
   "metadata": {},
   "outputs": [
    {
     "data": {
      "text/plain": [
       "Tensor[2, 6] n=12 x∈[-7.032e+03, 1.549] μ=-781.232 σ=2.210e+03 \u001b[31m+Inf!\u001b[0m \u001b[31m-Inf!\u001b[0m \u001b[31mNaN!\u001b[0m CPU"
      ]
     },
     "execution_count": null,
     "metadata": {},
     "output_type": "execute_result"
    }
   ],
   "source": [
    "# Statistics and range are calculated on good values only, if there are at lest 3 of them.\n",
    "lovely(spicy)"
   ]
  },
  {
   "cell_type": "code",
   "execution_count": null,
   "metadata": {},
   "outputs": [
    {
     "data": {
      "text/plain": [
       "Tensor[2, 6] n=12 x∈[-7.032e+03, 1.549] μ=-781.232 σ=2.210e+03 +Inf! -Inf! NaN! CPU"
      ]
     },
     "execution_count": null,
     "metadata": {},
     "output_type": "execute_result"
    }
   ],
   "source": [
    "lovely(spicy, color=False)"
   ]
  },
  {
   "cell_type": "code",
   "execution_count": null,
   "metadata": {},
   "outputs": [
    {
     "data": {
      "text/plain": [
       "Tensor[11] \u001b[31mNaN!\u001b[0m CPU \u001b[38;2;127;127;127mRealized COPY\u001b[0m"
      ]
     },
     "execution_count": null,
     "metadata": {},
     "output_type": "execute_result"
    }
   ],
   "source": [
    "lovely(Tensor([float(\"nan\")]*11))"
   ]
  },
  {
   "cell_type": "markdown",
   "metadata": {},
   "source": [
    "##### Is the tensor __all__ zeros?"
   ]
  },
  {
   "cell_type": "code",
   "execution_count": null,
   "metadata": {},
   "outputs": [
    {
     "data": {
      "text/plain": [
       "Tensor[12] CPU Lazy CONST"
      ]
     },
     "execution_count": null,
     "metadata": {},
     "output_type": "execute_result"
    }
   ],
   "source": [
    "lovely(Tensor.zeros(12))"
   ]
  },
  {
   "cell_type": "code",
   "execution_count": null,
   "metadata": {},
   "outputs": [],
   "source": [
    "# |hide\n",
    "# test_array_repr(str(lovely(jnp.zeros(12))),\n",
    "#         'Array[12] \\x1b[38;2;127;127;127mall_zeros\\x1b[0m gpu:0')"
   ]
  },
  {
   "cell_type": "code",
   "execution_count": null,
   "metadata": {},
   "outputs": [],
   "source": [
    "# XXX empty tensors - fix when they work\n",
    "# lovely(jnp.array([], dtype=jnp.float16).reshape((0,0,0)))"
   ]
  },
  {
   "cell_type": "code",
   "execution_count": null,
   "metadata": {},
   "outputs": [],
   "source": [
    "# |hide\n",
    "# test_array_repr(str(lovely(jnp.array([], dtype=jnp.float16).reshape((0,0,0)))),\n",
    "#         'Array[0, 0, 0] f16 \\x1b[38;2;127;127;127mempty\\x1b[0m gpu:0')"
   ]
  },
  {
   "cell_type": "markdown",
   "metadata": {},
   "source": [
    "##### Shows the dtype if it's not the default."
   ]
  },
  {
   "cell_type": "code",
   "execution_count": null,
   "metadata": {},
   "outputs": [
    {
     "data": {
      "text/plain": [
       "Tensor[3] dtypes.char x∈[1, 3] μ=2.000 σ=0.816 CPU [1, 2, 3]"
      ]
     },
     "execution_count": null,
     "metadata": {},
     "output_type": "execute_result"
    }
   ],
   "source": [
    "lovely(Tensor([1,2,3], dtype=dtypes.int8).realize())"
   ]
  },
  {
   "cell_type": "code",
   "execution_count": null,
   "metadata": {},
   "outputs": [],
   "source": [
    "# |hide\n",
    "# test_array_repr(str(lovely(jnp.array([1,2,3], dtype=jnp.int32))),\n",
    "#         'Array[3] i32 x∈[1, 3] μ=2.000 σ=0.816 gpu:0 [1, 2, 3]')"
   ]
  },
  {
   "cell_type": "code",
   "execution_count": null,
   "metadata": {},
   "outputs": [
    {
     "data": {
      "text/plain": [
       "<Tensor <UOp CPU (2, 6) float ShapeTracker(views=(View(shape=(2, 6), strides=(6, 1), offset=0, mask=None, contiguous=True),))> on CPU with grad None>\n",
       "Tensor[2, 6] n=12 x∈[-7.032e+03, 1.549] μ=-781.232 σ=2.210e+03 \u001b[31m+Inf!\u001b[0m \u001b[31m-Inf!\u001b[0m \u001b[31mNaN!\u001b[0m CPU"
      ]
     },
     "execution_count": null,
     "metadata": {},
     "output_type": "execute_result"
    }
   ],
   "source": [
    "lovely(spicy, verbose=True)"
   ]
  },
  {
   "cell_type": "markdown",
   "metadata": {},
   "source": [
    "##### We need to go deeper"
   ]
  },
  {
   "cell_type": "code",
   "execution_count": null,
   "metadata": {},
   "outputs": [
    {
     "data": {
      "text/plain": [
       "Tensor[3, 196, 196] n=115248 x∈[-2.118, 2.640] μ=nan σ=nan CPU \u001b[38;2;127;127;127mRealized COPY\u001b[0m\n",
       "  Tensor[196, 196] n=38416 x∈[-2.118, 2.249] μ=-0.324 σ=1.036 CPU\n",
       "    Tensor[196] x∈[-1.912, 2.249] μ=-0.673 σ=0.522 CPU\n",
       "    Tensor[196] x∈[-1.861, 2.163] μ=-0.738 σ=0.418 CPU\n",
       "    Tensor[196] x∈[-1.758, 2.198] μ=-0.806 σ=0.397 CPU\n",
       "    Tensor[196] x∈[-1.656, 2.249] μ=-0.849 σ=0.369 CPU\n",
       "    Tensor[196] x∈[-1.673, 2.198] μ=-0.857 σ=0.357 CPU\n",
       "    Tensor[196] x∈[-1.656, 2.146] μ=-0.848 σ=0.372 CPU\n",
       "    Tensor[196] x∈[-1.433, 2.215] μ=-0.784 σ=0.397 CPU\n",
       "    Tensor[196] x∈[-1.279, 2.249] μ=-0.695 σ=0.486 CPU\n",
       "    Tensor[196] x∈[-1.364, 2.249] μ=-0.637 σ=0.539 CPU\n",
       "    ...\n",
       "  Tensor[196, 196] n=38416 x∈[-1.966, 2.429] μ=nan σ=nan CPU\n",
       "    Tensor[196] x∈[-1.861, 2.411] μ=-0.529 σ=0.556 CPU\n",
       "    Tensor[196] x∈[-1.826, 2.359] μ=-0.562 σ=0.473 CPU\n",
       "    Tensor[196] x∈[-1.756, 2.376] μ=nan σ=nan CPU\n",
       "    Tensor[196] x∈[-1.633, 2.429] μ=-0.664 σ=0.430 CPU\n",
       "    Tensor[196] x∈[-1.651, 2.376] μ=-0.669 σ=0.399 CPU\n",
       "    Tensor[196] x∈[-1.633, 2.376] μ=-0.701 σ=0.391 CPU\n",
       "    Tensor[196] x∈[-1.563, 2.429] μ=-0.670 σ=0.380 CPU\n",
       "    Tensor[196] x∈[-1.475, 2.429] μ=-0.616 σ=0.386 CPU\n",
       "    Tensor[196] x∈[-1.511, 2.429] μ=-0.593 σ=0.399 CPU\n",
       "    ...\n",
       "  Tensor[196, 196] n=38416 x∈[-1.804, 2.640] μ=-0.567 σ=1.178 CPU\n",
       "    Tensor[196] x∈[-1.717, 2.396] μ=-0.982 σ=0.350 CPU\n",
       "    Tensor[196] x∈[-1.752, 2.326] μ=-1.034 σ=0.314 CPU\n",
       "    Tensor[196] x∈[-1.648, 2.379] μ=-1.086 σ=0.314 CPU\n",
       "    Tensor[196] x∈[-1.630, 2.466] μ=-1.121 σ=0.305 CPU\n",
       "    Tensor[196] x∈[-1.717, 2.448] μ=-1.120 σ=0.302 CPU\n",
       "    Tensor[196] x∈[-1.717, 2.431] μ=-1.166 σ=0.314 CPU\n",
       "    Tensor[196] x∈[-1.560, 2.448] μ=-1.124 σ=0.326 CPU\n",
       "    Tensor[196] x∈[-1.421, 2.431] μ=-1.064 σ=0.383 CPU\n",
       "    Tensor[196] x∈[-1.526, 2.396] μ=-1.047 σ=0.417 CPU\n",
       "    ..."
      ]
     },
     "execution_count": null,
     "metadata": {},
     "output_type": "execute_result"
    }
   ],
   "source": [
    "image = np.load(\"mysteryman.npy\")\n",
    "image[1,2,3] = float('nan')\n",
    "\n",
    "image = Tensor(image)\n",
    "\n",
    "lovely(image, depth=2) # Limited by set_config(deeper_lines=N)"
   ]
  }
 ],
 "metadata": {
  "kernelspec": {
   "display_name": "python3",
   "language": "python",
   "name": "python3"
  }
 },
 "nbformat": 4,
 "nbformat_minor": 4
}
